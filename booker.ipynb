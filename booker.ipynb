{
 "cells": [
  {
   "cell_type": "code",
   "execution_count": 1,
   "metadata": {},
   "outputs": [],
   "source": [
    "import duckdb\n",
    "import json\n",
    "import pandas as pd"
   ]
  },
  {
   "cell_type": "code",
   "execution_count": 2,
   "metadata": {},
   "outputs": [],
   "source": [
    "conn = duckdb.connect(database=\":memory:\")"
   ]
  },
  {
   "cell_type": "code",
   "execution_count": 3,
   "metadata": {},
   "outputs": [],
   "source": [
    "df = pd.read_parquet(\"profiles/booker_details/part-00000-926fa82c-54d5-43d5-bf50-da8569a2dfb9-c000.snappy.parquet\")"
   ]
  },
  {
   "cell_type": "code",
   "execution_count": 4,
   "metadata": {},
   "outputs": [
    {
     "data": {
      "text/plain": [
       "0     2769\n",
       "1     6535\n",
       "2     6807\n",
       "3    18353\n",
       "4    20348\n",
       "Name: PersonID, dtype: int64"
      ]
     },
     "execution_count": 4,
     "metadata": {},
     "output_type": "execute_result"
    }
   ],
   "source": [
    "df[\"PersonID\"].head(5)"
   ]
  },
  {
   "cell_type": "code",
   "execution_count": 6,
   "metadata": {},
   "outputs": [],
   "source": [
    "personid = 2769"
   ]
  },
  {
   "cell_type": "code",
   "execution_count": 10,
   "metadata": {},
   "outputs": [
    {
     "data": {
      "text/plain": [
       "Index(['PersonID', 'BookerFirstName', 'BookerLastName', 'BookerEmailAddress',\n",
       "       'BookerMobile', 'TotalRevenue', 'BookerType', 'BookerCity',\n",
       "       'LatestDate', 'FirstDate',\n",
       "       ...\n",
       "       'AgeRange_separator_1_to_10', 'AgeRange_separator_41_to_50',\n",
       "       'AgeRange_separator_51_to_60', 'AgeRange_separator_91_to_100',\n",
       "       'AgeRange_separator_21_to_30', 'AgeRange_separator_31_to_40',\n",
       "       'TravelOrigin', 'TravelDestination', 'TravelSeat', 'Details'],\n",
       "      dtype='object', length=114)"
      ]
     },
     "execution_count": 10,
     "metadata": {},
     "output_type": "execute_result"
    }
   ],
   "source": [
    "df.columns"
   ]
  },
  {
   "cell_type": "code",
   "execution_count": 8,
   "metadata": {},
   "outputs": [],
   "source": [
    "conn.execute(f\"DROP TABLE IF EXISTS cdp_booker_{personid}\")\n",
    "conn.execute(f\"CREATE TEMPORARY TABLE cdp_booker_{personid} AS SELECT * FROM read_parquet('profiles/booker_details/*.parquet') WHERE personid ='{personid}'\")\n",
    "booker_df = conn.execute(f\"SELECT * FROM cdp_booker_{personid}\").df()\n",
    "booker_dict = booker_df.to_dict()"
   ]
  },
  {
   "cell_type": "code",
   "execution_count": 9,
   "metadata": {},
   "outputs": [],
   "source": [
    "with open('booker.json','w') as file:\n",
    "    json.dump(booker_dict,file)"
   ]
  },
  {
   "cell_type": "code",
   "execution_count": 2,
   "metadata": {},
   "outputs": [
    {
     "name": "stdout",
     "output_type": "stream",
     "text": [
      "26\n"
     ]
    }
   ],
   "source": [
    "print(len(\"TravelInsurance_separator_\"))"
   ]
  }
 ],
 "metadata": {
  "kernelspec": {
   "display_name": "Python 3",
   "language": "python",
   "name": "python3"
  },
  "language_info": {
   "codemirror_mode": {
    "name": "ipython",
    "version": 3
   },
   "file_extension": ".py",
   "mimetype": "text/x-python",
   "name": "python",
   "nbconvert_exporter": "python",
   "pygments_lexer": "ipython3",
   "version": "3.11.3"
  },
  "orig_nbformat": 4
 },
 "nbformat": 4,
 "nbformat_minor": 2
}
