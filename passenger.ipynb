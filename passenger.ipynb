{
 "cells": [
  {
   "cell_type": "code",
   "execution_count": 1,
   "metadata": {},
   "outputs": [],
   "source": [
    "import duckdb\n",
    "conn = duckdb.connect(database=':memory:')"
   ]
  },
  {
   "cell_type": "code",
   "execution_count": 2,
   "metadata": {},
   "outputs": [],
   "source": [
    "passenger_hash = \"fd68e562482eef0d8941437ed7ee0e4e\""
   ]
  },
  {
   "cell_type": "code",
   "execution_count": 3,
   "metadata": {},
   "outputs": [],
   "source": [
    "conn.execute(f\"DROP TABLE IF EXISTS cdp_passenger{passenger_hash}\")\n",
    "conn.execute(f\"CREATE TEMPORARY TABLE cdp_passenger{passenger_hash} AS SELECT * FROM read_parquet('profiles/passenger_details/*.parquet') WHERE passenger_hash ='{passenger_hash}'\")\n",
    "passenger_df = conn.execute(f\"SELECT * FROM cdp_passenger{passenger_hash}\").df()\n",
    "passenger_dict = passenger_df.to_dict()"
   ]
  },
  {
   "cell_type": "code",
   "execution_count": 4,
   "metadata": {},
   "outputs": [],
   "source": [
    "import json"
   ]
  },
  {
   "cell_type": "code",
   "execution_count": 9,
   "metadata": {},
   "outputs": [],
   "source": [
    "with open('passenger.json', 'w') as json_file:\n",
    "    json.dump(passenger_dict,json_file)"
   ]
  },
  {
   "cell_type": "code",
   "execution_count": 5,
   "metadata": {},
   "outputs": [],
   "source": [
    "passenger_dict = {key:value[0] for key,value in passenger_dict.items() }"
   ]
  },
  {
   "cell_type": "code",
   "execution_count": 29,
   "metadata": {},
   "outputs": [
    {
     "ename": "TypeError",
     "evalue": "the JSON object must be str, bytes or bytearray, not dict",
     "output_type": "error",
     "traceback": [
      "\u001b[1;31m---------------------------------------------------------------------------\u001b[0m",
      "\u001b[1;31mTypeError\u001b[0m                                 Traceback (most recent call last)",
      "\u001b[1;32mc:\\Users\\pradi\\Downloads\\cdp_api\\passenger.ipynb Cell 7\u001b[0m line \u001b[0;36m1\n\u001b[1;32m----> <a href='vscode-notebook-cell:/c%3A/Users/pradi/Downloads/cdp_api/passenger.ipynb#X15sZmlsZQ%3D%3D?line=0'>1</a>\u001b[0m passenger_dict \u001b[39m=\u001b[39m json\u001b[39m.\u001b[39;49mloads(passenger_dict)\n\u001b[0;32m      <a href='vscode-notebook-cell:/c%3A/Users/pradi/Downloads/cdp_api/passenger.ipynb#X15sZmlsZQ%3D%3D?line=1'>2</a>\u001b[0m \u001b[39mprint\u001b[39m(passenger_dict)\n",
      "File \u001b[1;32mc:\\Program Files\\Python311\\Lib\\json\\__init__.py:339\u001b[0m, in \u001b[0;36mloads\u001b[1;34m(s, cls, object_hook, parse_float, parse_int, parse_constant, object_pairs_hook, **kw)\u001b[0m\n\u001b[0;32m    337\u001b[0m \u001b[39melse\u001b[39;00m:\n\u001b[0;32m    338\u001b[0m     \u001b[39mif\u001b[39;00m \u001b[39mnot\u001b[39;00m \u001b[39misinstance\u001b[39m(s, (\u001b[39mbytes\u001b[39m, \u001b[39mbytearray\u001b[39m)):\n\u001b[1;32m--> 339\u001b[0m         \u001b[39mraise\u001b[39;00m \u001b[39mTypeError\u001b[39;00m(\u001b[39mf\u001b[39m\u001b[39m'\u001b[39m\u001b[39mthe JSON object must be str, bytes or bytearray, \u001b[39m\u001b[39m'\u001b[39m\n\u001b[0;32m    340\u001b[0m                         \u001b[39mf\u001b[39m\u001b[39m'\u001b[39m\u001b[39mnot \u001b[39m\u001b[39m{\u001b[39;00ms\u001b[39m.\u001b[39m\u001b[39m__class__\u001b[39m\u001b[39m.\u001b[39m\u001b[39m__name__\u001b[39m\u001b[39m}\u001b[39;00m\u001b[39m'\u001b[39m)\n\u001b[0;32m    341\u001b[0m     s \u001b[39m=\u001b[39m s\u001b[39m.\u001b[39mdecode(detect_encoding(s), \u001b[39m'\u001b[39m\u001b[39msurrogatepass\u001b[39m\u001b[39m'\u001b[39m)\n\u001b[0;32m    343\u001b[0m \u001b[39mif\u001b[39;00m (\u001b[39mcls\u001b[39m \u001b[39mis\u001b[39;00m \u001b[39mNone\u001b[39;00m \u001b[39mand\u001b[39;00m object_hook \u001b[39mis\u001b[39;00m \u001b[39mNone\u001b[39;00m \u001b[39mand\u001b[39;00m\n\u001b[0;32m    344\u001b[0m         parse_int \u001b[39mis\u001b[39;00m \u001b[39mNone\u001b[39;00m \u001b[39mand\u001b[39;00m parse_float \u001b[39mis\u001b[39;00m \u001b[39mNone\u001b[39;00m \u001b[39mand\u001b[39;00m\n\u001b[0;32m    345\u001b[0m         parse_constant \u001b[39mis\u001b[39;00m \u001b[39mNone\u001b[39;00m \u001b[39mand\u001b[39;00m object_pairs_hook \u001b[39mis\u001b[39;00m \u001b[39mNone\u001b[39;00m \u001b[39mand\u001b[39;00m \u001b[39mnot\u001b[39;00m kw):\n",
      "\u001b[1;31mTypeError\u001b[0m: the JSON object must be str, bytes or bytearray, not dict"
     ]
    }
   ],
   "source": [
    "profie_type = request.args.get(\"profile_type\")\n",
    "    passenger_hash = request.args.get(\"passenger_hash\")\n",
    "    personid = request.args.get(\"personid\")\n",
    "    if profie_type == 'passenger':\n",
    "        conn.execute(f\"DROP TABLE IF EXISTS cdp_passenger_{passenger_hash}\")\n",
    "        conn.execute(f\"CREATE TEMPORARY TABLE cdp_passenger_{passenger_hash} AS SELECT * FROM read_parquet('profiles/passenger_details/*.parquet') WHERE passenger_hash ='{passenger_hash}'\")\n",
    "        passenger_df = conn.execute(f\"SELECT * FROM cdp_passenger_{passenger_hash}\").df()\n",
    "        passenger_dict = passenger_df.to_dict()\n",
    "        passenger_dict = {key:value[0] for key,value in passenger_dict.items() }\n",
    "        TravelOrigin = json.loads(passenger_dict[\"TravelOrigin\"])\n",
    "        TravelDestination = json.loads(passenger_dict[\"TravelDestination\"])\n",
    "        TravelSeat = json.loads(passenger_dict[\"TravelSeat\"])\n",
    "        Details = json.loads(passenger_dict[\"Details\"])\n",
    "        del passenger_dict[\"TravelOrigin\"],passenger_dict[\"TravelDestination\"],passenger_dict[\"TravelSeat\"],passenger_dict[\"Details\"]\n",
    "        passenger_dict[\"TravelOrigin\"]= TravelOrigin\n",
    "        passenger_dict[\"TravelDestination\"]= TravelDestination\n",
    "        passenger_dict[\"TravelSeat\"]= TravelSeat\n",
    "        passenger_dict[\"Details\"]= Details\n",
    "        Months = {key[23:]:value for key,value in passenger_dict.items() if \"BookingMonth\" in key and value > 0}\n",
    "        BookingChannel = {key[25:]:value for key,value in passenger_dict.items() if \"BookingChannel\" in key and value > 0}\n",
    "        TravelBaggage = {key:value for key,value in passenger_dict.items() if \"TravelBaggage\" in key and value > 0}\n",
    "        TravelInsurance = {key:value for key,value in passenger_dict.items() if \"TravelInsurance\" in key and value > 0}\n",
    "        passenger_dict = {key:value for key,value in passenger_dict.items() if \"BookingMonth\" not in key and \"TravelBaggage\" not in key and \"BookingChannel\" not in key and \"BookingCurrency\" not in key and \"TravelInsurance\" not in key}\n",
    "        passenger_dict[\"Months\"]=Months\n",
    "        passenger_dict[\"BookingChannel\"]=BookingChannel\n",
    "        passenger_dict[\"TravelBaggage\"]=TravelBaggage\n",
    "        passenger_dict[\"TravelInsurance\"]=TravelBaggage\n",
    "        passenger_dict[\"TravelInsurance\"]=TravelBaggage\n",
    "        json_data = json.dumps(passenger_dict, sort_keys=False)\n",
    "        return Response(json_data, content_type='application/json')"
   ]
  },
  {
   "cell_type": "code",
   "execution_count": 13,
   "metadata": {},
   "outputs": [],
   "source": [
    "with open('passenger_test.json', 'w') as json_file:\n",
    "    json.dump(passenger_dict,json_file)"
   ]
  },
  {
   "cell_type": "code",
   "execution_count": 6,
   "metadata": {},
   "outputs": [],
   "source": [
    "TravelOrigin = json.loads(passenger_dict[\"TravelOrigin\"])\n",
    "TravelDestination = json.loads(passenger_dict[\"TravelDestination\"])\n",
    "TravelSeat = json.loads(passenger_dict[\"TravelSeat\"])\n",
    "Details = json.loads(passenger_dict[\"Details\"])\n"
   ]
  },
  {
   "cell_type": "code",
   "execution_count": 7,
   "metadata": {},
   "outputs": [],
   "source": [
    "del passenger_dict[\"TravelOrigin\"],passenger_dict[\"TravelDestination\"],passenger_dict[\"TravelSeat\"],passenger_dict[\"Details\"]"
   ]
  },
  {
   "cell_type": "code",
   "execution_count": 8,
   "metadata": {},
   "outputs": [],
   "source": [
    "to_add = [TravelOrigin,TravelDestination,TravelSeat,Details]"
   ]
  },
  {
   "cell_type": "code",
   "execution_count": 9,
   "metadata": {},
   "outputs": [],
   "source": [
    "passenger_dict[\"TravelOrigin\"]= TravelOrigin\n",
    "passenger_dict[\"TravelDestination\"]= TravelDestination\n",
    "passenger_dict[\"TravelSeat\"]= TravelSeat\n",
    "passenger_dict[\"Details\"]= Details\n",
    "    "
   ]
  },
  {
   "cell_type": "code",
   "execution_count": 38,
   "metadata": {},
   "outputs": [],
   "source": [
    "with open('passenger_final.json', 'w') as json_file:\n",
    "    json.dump(passenger_dict,json_file)"
   ]
  },
  {
   "cell_type": "code",
   "execution_count": 19,
   "metadata": {},
   "outputs": [],
   "source": [
    "Months = {key[23:]:value for key,value in passenger_dict.items() if \"BookingMonth\" in key and value > 0}\n",
    "    "
   ]
  },
  {
   "cell_type": "code",
   "execution_count": 20,
   "metadata": {},
   "outputs": [],
   "source": [
    "BookingChannel = {key[25:]:value for key,value in passenger_dict.items() if \"BookingChannel\" in key and value > 0}"
   ]
  },
  {
   "cell_type": "code",
   "execution_count": 21,
   "metadata": {},
   "outputs": [],
   "source": [
    "TravelBaggage = {key:value for key,value in passenger_dict.items() if \"TravelBaggage\" in key and value > 0}"
   ]
  },
  {
   "cell_type": "code",
   "execution_count": 38,
   "metadata": {},
   "outputs": [],
   "source": [
    "TravelInsurance = {key:value for key,value in passenger_dict.items() if \"TravelInsurance\" in key and value > 0}"
   ]
  },
  {
   "cell_type": "code",
   "execution_count": 39,
   "metadata": {},
   "outputs": [],
   "source": [
    "passenger_dict = {key: value for key, value in passenger_dict.items() if \"BookingMonth\" not in key and \"TravelBaggage\" not in key and \"BookingChannel\" not in key and \"TravelInsurance\" not in key}\n"
   ]
  },
  {
   "cell_type": "code",
   "execution_count": 37,
   "metadata": {},
   "outputs": [
    {
     "name": "stdout",
     "output_type": "stream",
     "text": [
      "{'passenger_hash': 'fd68e562482eef0d8941437ed7ee0e4e', 'FirstName': 'Yves', 'MiddleName': 'Yu', 'LastName': 'Kangleon', 'HonorificPrefix': 'Mr', 'HonorificSuffix': 'Unknown', 'EmailAddress': 'Unknown', 'Phone': 'Unknown', 'Gender': '1', 'ProvisionalPrimaryKey': '353912308_412143', 'DateOfBirth': '9999-12-31', 'Zipcode': 'Unknown', 'Nationality': 'PH', 'City': 'Unknown', 'State': 'Unknown', 'LatestDate': '2023-07-17 14:05:20.15', 'FirstDate': '2017-10-04 07:03:54.647', 'TotalBookings': 30, 'TotalRevenue': 45544.158950805664, 'TravelMeals_separator_None': 30, 'TravelMeals_separator_CEB_space1_Meals': 0, 'TravelInsurance_separator_OW_space1_Travel_space1_Insurance_space1_': 0, 'TravelInsurance_separator_Insurance_space1_Roundtrip': 0, 'TravelInsurance_separator_CD_space1_Insurance_space1__space2__space1_OW': 0, 'TravelInsurance_separator_None': 30, 'TravelInsurance_separator_CD_space1_Insurance_space1__space2__space1_RT': 0, 'TravelInsurance_separator_Insurance_space1__space2__space1_Senior_space1_Citizen': 0, 'TravelInsurance_separator_RT_space1_Travel_space1_Insurance': 0, 'TravelInsurance_separator_Insurance_space1__space2__space1_Infant': 0, 'TravelInsurance_separator_Insurance': 0, 'TravelInsurance_separator_Insurance_space1_Fee_space1__space3_Ancillary_space4_': 0, 'TravelInsurance_separator_RT_space1_Travel_space1_Insurance_space1__space2__space1_INFT': 0, 'TravelInsurance_separator_OW_space1_Travel_space1_Insurance_space1__space2__space1_INFT': 0, 'TravelInsurance_separator_Travel_space1_Insurance_space1__space2__space1_14D': 0, 'TravelInsurance_separator_Insurance_space1_Senior_space1_Citizen_space1__space2__space1_Roundtrip': 0, 'TravelInsurance_separator_LH_space1_Travel_space1_Insurance_space1__space2__space1_RT': 0, 'TravelInsurance_separator_Insurance_space1_Infant_space1__space2__space1_Roundtrip': 0, 'TravelInsurance_separator_LH_space1_Travel_space1_Insurance_space1__space2__space1_OW': 0, 'BookingCurrency_separator_AUD': 0, 'BookingCurrency_separator_SGD': 0, 'BookingCurrency_separator_PHP': 30, 'BookingCurrency_separator_USD': 0, 'BookingCurrency_separator_TWD': 0, 'BookingCurrency_separator_IDR': 0, 'BookingCurrency_separator_JPY': 0, 'BookingCurrency_separator_BND': 0, 'BookingCurrency_separator_EUR': 0, 'BookingCurrency_separator_QAR': 0, 'BookingCurrency_separator_SAR': 0, 'BookingCurrency_separator_INR': 0, 'BookingCurrency_separator_MOP': 0, 'BookingCurrency_separator_AED': 0, 'BookingCurrency_separator_THB': 0, 'BookingCurrency_separator_MYR': 0, 'BookingCurrency_separator_CNY': 0, 'BookingCurrency_separator_HKD': 0, 'BookingCurrency_separator_KRW': 0, 'BookingCurrency_separator_VND': 0, 'IsRegistered_separator_Yes': 0, 'IsRegistered_separator_No': 30, 'TravelSoloOrGroup_separator_Group': 1, 'TravelSoloOrGroup_separator_Solo': 29, 'TravelOrigin': {'MNL': 23, 'Unknown': 6, 'BXU': 1}, 'TravelDestination': {'DVO_MNL': 10, 'CEB_SUG_MNL_CEB': 1, 'SYD_MNL': 2, 'Unknown': 6, 'MNL': 1, 'ICN_MNL': 1, 'BXU_CEB_MNL': 1, 'SGN_MNL': 1, 'REP_MNL': 1, 'ILO_MNL': 1, 'HAN_MNL': 1, 'BXU_MNL': 1, 'SUG_MNL': 1, 'DXB_MNL': 1, 'SUG': 1}, 'TravelSeat': {'33D_10D': 1, '2A_16A_15B_37C': 1, '4C': 1, 'Unknown': 6, '3D': 1, '1C_9D': 1, '28D_18D_12C': 1, '3D_8C': 1, '2D_2D': 1, '21F_27D': 1, '2C_37F': 1, '10C_3C': 1, '21C_20D': 1, '55H_54H': 1, '12C_10C': 1, '2F_29D': 1, '22C_14D': 1, '21B_3D': 1, '56A_56A': 1, '39G_1C': 1, '2D_8C': 1, '1F_6C': 1, '32C_5C': 1, '19D': 1, '2F_5F': 1}, 'Details': {'0': {'origin': 'Unknown', 'destination': 'Unknown', 'insurance': 'None', 'baggage': 'None', 'meals': 'None', 'travel_date': 'Unknown', 'booking_date': '2023-04-13', 'revenue': 0.0, 'record_locator': 'PL3LSN'}, '1': {'origin': 'Unknown', 'destination': 'Unknown', 'insurance': 'None', 'baggage': 'None', 'meals': 'None', 'travel_date': 'Unknown', 'booking_date': '2023-05-29', 'revenue': 0.0, 'record_locator': 'HCI8MI'}, '2': {'origin': 'Unknown', 'destination': 'Unknown', 'insurance': 'None', 'baggage': 'None', 'meals': 'None', 'travel_date': 'Unknown', 'booking_date': '2023-04-25', 'revenue': 0.0, 'record_locator': 'IJR8QQ'}, '3': {'origin': 'Unknown', 'destination': 'Unknown', 'insurance': 'None', 'baggage': 'None', 'meals': 'None', 'travel_date': 'Unknown', 'booking_date': '2017-10-04', 'revenue': 0.0, 'record_locator': 'GYCYRP'}, '4': {'origin': 'Unknown', 'destination': 'Unknown', 'insurance': 'None', 'baggage': 'None', 'meals': 'None', 'travel_date': 'Unknown', 'booking_date': '2022-07-03', 'revenue': 0.0, 'record_locator': 'RMT2YH'}, '5': {'origin': 'Unknown', 'destination': 'Unknown', 'insurance': 'None', 'baggage': 'None', 'meals': 'None', 'travel_date': 'Unknown', 'booking_date': '2022-11-01', 'revenue': 0.0, 'record_locator': 'CDSQVC'}, '6': {'origin': 'MNL', 'destination': 'SYD_MNL', 'insurance': 'None', 'baggage': 'None', 'meals': 'None', 'travel_date': '2023-07-21', 'booking_date': '2023-07-17', 'revenue': 8609.43, 'record_locator': 'HKL9UA'}, '7': {'origin': 'MNL', 'destination': 'SGN_MNL', 'insurance': 'None', 'baggage': 'None', 'meals': 'None', 'travel_date': '2023-06-30', 'booking_date': '2023-06-23', 'revenue': 3388.82, 'record_locator': 'KNVENE'}, '8': {'origin': 'MNL', 'destination': 'DVO_MNL', 'insurance': 'None', 'baggage': 'None', 'meals': 'None', 'travel_date': '2023-05-04', 'booking_date': '2023-05-03', 'revenue': 415.02, 'record_locator': 'VERZFS'}, '9': {'origin': 'MNL', 'destination': 'BXU_CEB_MNL', 'insurance': 'None', 'baggage': 'None', 'meals': 'None', 'travel_date': '2023-04-28', 'booking_date': '2023-04-25', 'revenue': 695.03, 'record_locator': 'EFJZHM'}, '10': {'origin': 'MNL', 'destination': 'ICN_MNL', 'insurance': 'None', 'baggage': 'None', 'meals': 'None', 'travel_date': '2023-04-20', 'booking_date': '2023-03-26', 'revenue': 3360.21, 'record_locator': 'JCKWFV'}, '11': {'origin': 'MNL', 'destination': 'DVO_MNL', 'insurance': 'None', 'baggage': 'None', 'meals': 'None', 'travel_date': '2023-04-15', 'booking_date': '2023-04-14', 'revenue': 415.02, 'record_locator': 'ALN6TX'}, '12': {'origin': 'MNL', 'destination': 'HAN_MNL', 'insurance': 'None', 'baggage': 'None', 'meals': 'None', 'travel_date': '2023-04-06', 'booking_date': '2023-02-25', 'revenue': 3658.53, 'record_locator': 'GK4QXA'}, '13': {'origin': 'MNL', 'destination': 'SYD_MNL', 'insurance': 'None', 'baggage': 'None', 'meals': 'None', 'travel_date': '2023-03-11', 'booking_date': '2023-02-25', 'revenue': 8534.6, 'record_locator': 'VKIUPQ'}, '14': {'origin': 'MNL', 'destination': 'DVO_MNL', 'insurance': 'None', 'baggage': 'None', 'meals': 'None', 'travel_date': '2023-02-08', 'booking_date': '2023-02-03', 'revenue': 415.02, 'record_locator': 'SFNYVP'}, '15': {'origin': 'MNL', 'destination': 'DVO_MNL', 'insurance': 'None', 'baggage': 'None', 'meals': 'None', 'travel_date': '2023-01-21', 'booking_date': '2023-01-15', 'revenue': 415.02, 'record_locator': 'SIEVJG'}, '16': {'origin': 'MNL', 'destination': 'SUG_MNL', 'insurance': 'None', 'baggage': 'None', 'meals': 'None', 'travel_date': '2022-12-22', 'booking_date': '2022-11-01', 'revenue': 315.02, 'record_locator': 'XEUQUS'}, '17': {'origin': 'MNL', 'destination': 'DVO_MNL', 'insurance': 'None', 'baggage': 'None', 'meals': 'None', 'travel_date': '2022-11-26', 'booking_date': '2022-11-01', 'revenue': 415.02, 'record_locator': 'TMFSJX'}, '18': {'origin': 'MNL', 'destination': 'ILO_MNL', 'insurance': 'None', 'baggage': 'None', 'meals': 'None', 'travel_date': '2022-11-04', 'booking_date': '2022-11-02', 'revenue': 415.02, 'record_locator': 'TMW3XX'}, '19': {'origin': 'MNL', 'destination': 'DVO_MNL', 'insurance': 'None', 'baggage': 'None', 'meals': 'None', 'travel_date': '2022-10-23', 'booking_date': '2022-10-03', 'revenue': 415.02, 'record_locator': 'DIND5A'}, '20': {'origin': 'BXU', 'destination': 'MNL', 'insurance': 'None', 'baggage': 'None', 'meals': 'None', 'travel_date': '2022-09-27', 'booking_date': '2022-08-29', 'revenue': 165.01, 'record_locator': 'IEK1RP'}, '21': {'origin': 'MNL', 'destination': 'SUG', 'insurance': 'None', 'baggage': 'Checked Baggage Allowance - 20 Kilos', 'meals': 'None', 'travel_date': '2022-09-21', 'booking_date': '2022-09-20', 'revenue': 648.01, 'record_locator': 'DGHN6G'}, '22': {'origin': 'MNL', 'destination': 'DVO_MNL', 'insurance': 'None', 'baggage': 'None', 'meals': 'None', 'travel_date': '2022-08-28', 'booking_date': '2022-08-27', 'revenue': 415.02, 'record_locator': 'QDMYVF'}, '23': {'origin': 'MNL', 'destination': 'DXB_MNL', 'insurance': 'None', 'baggage': 'Checked Baggage Allowance - 20 Kilos', 'meals': 'None', 'travel_date': '2022-08-13', 'booking_date': '2022-08-01', 'revenue': 6527.3, 'record_locator': 'CLD2WX'}, '24': {'origin': 'MNL', 'destination': 'CEB_SUG_MNL_CEB', 'insurance': 'None', 'baggage': 'None', 'meals': 'None', 'travel_date': '2022-07-15', 'booking_date': '2022-07-06', 'revenue': 975.04, 'record_locator': 'YNSJME'}, '25': {'origin': 'MNL', 'destination': 'DVO_MNL', 'insurance': 'None', 'baggage': 'None', 'meals': 'None', 'travel_date': '2022-06-29', 'booking_date': '2022-06-22', 'revenue': 415.02, 'record_locator': 'YKEUQA'}, '26': {'origin': 'MNL', 'destination': 'BXU_MNL', 'insurance': 'None', 'baggage': 'None', 'meals': 'None', 'travel_date': '2022-06-12', 'booking_date': '2022-06-08', 'revenue': 365.02, 'record_locator': 'EJMGQN'}, '27': {'origin': 'MNL', 'destination': 'DVO_MNL', 'insurance': 'None', 'baggage': 'None', 'meals': 'None', 'travel_date': '2022-05-25', 'booking_date': '2022-05-18', 'revenue': 415.02, 'record_locator': 'CBMJNV'}, '28': {'origin': 'MNL', 'destination': 'DVO_MNL', 'insurance': 'None', 'baggage': 'None', 'meals': 'None', 'travel_date': '2022-04-29', 'booking_date': '2022-04-26', 'revenue': 415.02, 'record_locator': 'QHI54T'}, '29': {'origin': 'MNL', 'destination': 'REP_MNL', 'insurance': 'None', 'baggage': 'None', 'meals': 'None', 'travel_date': '2019-09-21', 'booking_date': '2019-09-18', 'revenue': 3736.92, 'record_locator': 'GMCTJB'}}, 'Months': {'May': 3, 'April': 5, 'February': 3, 'June': 3, 'November': 4, 'July': 3, 'January': 1, 'March': 1, 'September': 2, 'August': 3, 'October': 2}}\n"
     ]
    }
   ],
   "source": [
    "print(passenger_dict)"
   ]
  },
  {
   "cell_type": "code",
   "execution_count": 40,
   "metadata": {},
   "outputs": [],
   "source": [
    "passenger_dict[\"Months\"]=Months\n",
    "passenger_dict[\"BookingChannel\"]=BookingChannel\n",
    "passenger_dict[\"TravelBaggage\"]=TravelBaggage\n",
    "passenger_dict[\"TravelInsurance\"]=TravelBaggage"
   ]
  },
  {
   "cell_type": "code",
   "execution_count": 25,
   "metadata": {},
   "outputs": [
    {
     "name": "stdout",
     "output_type": "stream",
     "text": [
      "{'passenger_hash': 'fd68e562482eef0d8941437ed7ee0e4e', 'FirstName': 'Yves', 'MiddleName': 'Yu', 'LastName': 'Kangleon', 'HonorificPrefix': 'Mr', 'HonorificSuffix': 'Unknown', 'EmailAddress': 'Unknown', 'Phone': 'Unknown', 'Gender': '1', 'ProvisionalPrimaryKey': '353912308_412143', 'DateOfBirth': '9999-12-31', 'Zipcode': 'Unknown', 'Nationality': 'PH', 'City': 'Unknown', 'State': 'Unknown', 'LatestDate': '2023-07-17 14:05:20.15', 'FirstDate': '2017-10-04 07:03:54.647', 'TotalBookings': 30, 'TotalRevenue': 45544.158950805664, 'BookingMonth_separator_May': 3, 'BookingMonth_separator_April': 5, 'BookingMonth_separator_February': 3, 'BookingMonth_separator_June': 3, 'BookingMonth_separator_November': 4, 'BookingMonth_separator_December': 0, 'BookingMonth_separator_July': 3, 'BookingMonth_separator_January': 1, 'BookingMonth_separator_March': 1, 'BookingMonth_separator_September': 2, 'BookingMonth_separator_August': 3, 'BookingMonth_separator_October': 2, 'TravelMeals_separator_None': 30, 'TravelMeals_separator_CEB_space1_Meals': 0, 'BookingChannel_separator_Web': 0, 'BookingChannel_separator_API': 28, 'BookingChannel_separator_Direct': 2, 'BookingChannel_separator_GDS': 0, 'TravelBaggage_separator_Per_space1_Piece_space1_Checked_space1_Baggage_space1_Allowance_space1__space3_bundles_space4__space1__space2__space1_20_space1_Kilos': 0, 'TravelBaggage_separator_Gate_space1_Baggage_space1_Fee': 0, 'TravelBaggage_separator_Checked_space1_Baggage_space1_Allowance_space1__space2__space1_30_space1_Kilos': 0, 'TravelBaggage_separator_Checked_space1_Baggage_space1_Allowance_space1__space2__space1_20_space1_Kilos': 2, 'TravelBaggage_separator_Checked_space1_Baggage_space1_Allowance_space1__space3_bundles_space4__space1__space2__space1_20_space1_Kilos': 0, 'TravelBaggage_separator_Checked_space1_Baggage_space1_Allowance_space1__space2__space1_32_space1_Kilos': 0, 'TravelBaggage_separator_32KG_space1__space2__space1_Per_space1_Piece_space1_Baggage': 0, 'TravelBaggage_separator_Prepaid_space1_Baggage_space1__space2__space1_10kg': 0, 'TravelBaggage_separator_Baggage_space1_Protect': 0, 'TravelBaggage_separator_Airport_space1_Bag_space1_Fee': 0, 'TravelBaggage_separator_None': 28, 'TravelBaggage_separator_Extra_space1_Bag_space1_Fee': 0, 'TravelBaggage_separator_Checked_space1_Baggage_space1_Allowance_space1__space2__space1_15_space1_Kilos': 0, 'TravelBaggage_separator_Checked_space1_Baggage_space1_Allowance_space1__space2__space1_25_space1_Kilos': 0, 'TravelBaggage_separator_Oversized_space1_Baggage_space1_Fee': 0, 'TravelBaggage_separator_Excess_space1_Baggage_space1_Rate': 0, 'TravelBaggage_separator_20KG_space1__space2__space1_Per_space1_Piece_space1_Baggage': 0, 'TravelBaggage_separator_Checked_space1_Baggage_space1_Allowance_space1__space2__space1_40_space1_Kilos': 0, 'TravelBaggage_separator_Interline_space1_Prepaid_space1_Baggage_space1_P2': 0, 'TravelBaggage_separator_Prepaid_space1_Baggage_space1__space2__space1_45kg': 0, 'TravelBaggage_separator_Prepaid_space1_Baggage_space1__space2__space1_35kg': 0, 'TravelInsurance_separator_OW_space1_Travel_space1_Insurance_space1_': 0, 'TravelInsurance_separator_Insurance_space1_Roundtrip': 0, 'TravelInsurance_separator_CD_space1_Insurance_space1__space2__space1_OW': 0, 'TravelInsurance_separator_None': 30, 'TravelInsurance_separator_CD_space1_Insurance_space1__space2__space1_RT': 0, 'TravelInsurance_separator_Insurance_space1__space2__space1_Senior_space1_Citizen': 0, 'TravelInsurance_separator_RT_space1_Travel_space1_Insurance': 0, 'TravelInsurance_separator_Insurance_space1__space2__space1_Infant': 0, 'TravelInsurance_separator_Insurance': 0, 'TravelInsurance_separator_Insurance_space1_Fee_space1__space3_Ancillary_space4_': 0, 'TravelInsurance_separator_RT_space1_Travel_space1_Insurance_space1__space2__space1_INFT': 0, 'TravelInsurance_separator_OW_space1_Travel_space1_Insurance_space1__space2__space1_INFT': 0, 'TravelInsurance_separator_Travel_space1_Insurance_space1__space2__space1_14D': 0, 'TravelInsurance_separator_Insurance_space1_Senior_space1_Citizen_space1__space2__space1_Roundtrip': 0, 'TravelInsurance_separator_LH_space1_Travel_space1_Insurance_space1__space2__space1_RT': 0, 'TravelInsurance_separator_Insurance_space1_Infant_space1__space2__space1_Roundtrip': 0, 'TravelInsurance_separator_LH_space1_Travel_space1_Insurance_space1__space2__space1_OW': 0, 'BookingCurrency_separator_AUD': 0, 'BookingCurrency_separator_SGD': 0, 'BookingCurrency_separator_PHP': 30, 'BookingCurrency_separator_USD': 0, 'BookingCurrency_separator_TWD': 0, 'BookingCurrency_separator_IDR': 0, 'BookingCurrency_separator_JPY': 0, 'BookingCurrency_separator_BND': 0, 'BookingCurrency_separator_EUR': 0, 'BookingCurrency_separator_QAR': 0, 'BookingCurrency_separator_SAR': 0, 'BookingCurrency_separator_INR': 0, 'BookingCurrency_separator_MOP': 0, 'BookingCurrency_separator_AED': 0, 'BookingCurrency_separator_THB': 0, 'BookingCurrency_separator_MYR': 0, 'BookingCurrency_separator_CNY': 0, 'BookingCurrency_separator_HKD': 0, 'BookingCurrency_separator_KRW': 0, 'BookingCurrency_separator_VND': 0, 'IsRegistered_separator_Yes': 0, 'IsRegistered_separator_No': 30, 'TravelSoloOrGroup_separator_Group': 1, 'TravelSoloOrGroup_separator_Solo': 29, 'TravelOrigin': {'MNL': 23, 'Unknown': 6, 'BXU': 1}, 'TravelDestination': {'DVO_MNL': 10, 'CEB_SUG_MNL_CEB': 1, 'SYD_MNL': 2, 'Unknown': 6, 'MNL': 1, 'ICN_MNL': 1, 'BXU_CEB_MNL': 1, 'SGN_MNL': 1, 'REP_MNL': 1, 'ILO_MNL': 1, 'HAN_MNL': 1, 'BXU_MNL': 1, 'SUG_MNL': 1, 'DXB_MNL': 1, 'SUG': 1}, 'TravelSeat': {'33D_10D': 1, '2A_16A_15B_37C': 1, '4C': 1, 'Unknown': 6, '3D': 1, '1C_9D': 1, '28D_18D_12C': 1, '3D_8C': 1, '2D_2D': 1, '21F_27D': 1, '2C_37F': 1, '10C_3C': 1, '21C_20D': 1, '55H_54H': 1, '12C_10C': 1, '2F_29D': 1, '22C_14D': 1, '21B_3D': 1, '56A_56A': 1, '39G_1C': 1, '2D_8C': 1, '1F_6C': 1, '32C_5C': 1, '19D': 1, '2F_5F': 1}, 'Details': {'0': {'origin': 'Unknown', 'destination': 'Unknown', 'insurance': 'None', 'baggage': 'None', 'meals': 'None', 'travel_date': 'Unknown', 'booking_date': '2023-04-13', 'revenue': 0.0, 'record_locator': 'PL3LSN'}, '1': {'origin': 'Unknown', 'destination': 'Unknown', 'insurance': 'None', 'baggage': 'None', 'meals': 'None', 'travel_date': 'Unknown', 'booking_date': '2023-05-29', 'revenue': 0.0, 'record_locator': 'HCI8MI'}, '2': {'origin': 'Unknown', 'destination': 'Unknown', 'insurance': 'None', 'baggage': 'None', 'meals': 'None', 'travel_date': 'Unknown', 'booking_date': '2023-04-25', 'revenue': 0.0, 'record_locator': 'IJR8QQ'}, '3': {'origin': 'Unknown', 'destination': 'Unknown', 'insurance': 'None', 'baggage': 'None', 'meals': 'None', 'travel_date': 'Unknown', 'booking_date': '2017-10-04', 'revenue': 0.0, 'record_locator': 'GYCYRP'}, '4': {'origin': 'Unknown', 'destination': 'Unknown', 'insurance': 'None', 'baggage': 'None', 'meals': 'None', 'travel_date': 'Unknown', 'booking_date': '2022-07-03', 'revenue': 0.0, 'record_locator': 'RMT2YH'}, '5': {'origin': 'Unknown', 'destination': 'Unknown', 'insurance': 'None', 'baggage': 'None', 'meals': 'None', 'travel_date': 'Unknown', 'booking_date': '2022-11-01', 'revenue': 0.0, 'record_locator': 'CDSQVC'}, '6': {'origin': 'MNL', 'destination': 'SYD_MNL', 'insurance': 'None', 'baggage': 'None', 'meals': 'None', 'travel_date': '2023-07-21', 'booking_date': '2023-07-17', 'revenue': 8609.43, 'record_locator': 'HKL9UA'}, '7': {'origin': 'MNL', 'destination': 'SGN_MNL', 'insurance': 'None', 'baggage': 'None', 'meals': 'None', 'travel_date': '2023-06-30', 'booking_date': '2023-06-23', 'revenue': 3388.82, 'record_locator': 'KNVENE'}, '8': {'origin': 'MNL', 'destination': 'DVO_MNL', 'insurance': 'None', 'baggage': 'None', 'meals': 'None', 'travel_date': '2023-05-04', 'booking_date': '2023-05-03', 'revenue': 415.02, 'record_locator': 'VERZFS'}, '9': {'origin': 'MNL', 'destination': 'BXU_CEB_MNL', 'insurance': 'None', 'baggage': 'None', 'meals': 'None', 'travel_date': '2023-04-28', 'booking_date': '2023-04-25', 'revenue': 695.03, 'record_locator': 'EFJZHM'}, '10': {'origin': 'MNL', 'destination': 'ICN_MNL', 'insurance': 'None', 'baggage': 'None', 'meals': 'None', 'travel_date': '2023-04-20', 'booking_date': '2023-03-26', 'revenue': 3360.21, 'record_locator': 'JCKWFV'}, '11': {'origin': 'MNL', 'destination': 'DVO_MNL', 'insurance': 'None', 'baggage': 'None', 'meals': 'None', 'travel_date': '2023-04-15', 'booking_date': '2023-04-14', 'revenue': 415.02, 'record_locator': 'ALN6TX'}, '12': {'origin': 'MNL', 'destination': 'HAN_MNL', 'insurance': 'None', 'baggage': 'None', 'meals': 'None', 'travel_date': '2023-04-06', 'booking_date': '2023-02-25', 'revenue': 3658.53, 'record_locator': 'GK4QXA'}, '13': {'origin': 'MNL', 'destination': 'SYD_MNL', 'insurance': 'None', 'baggage': 'None', 'meals': 'None', 'travel_date': '2023-03-11', 'booking_date': '2023-02-25', 'revenue': 8534.6, 'record_locator': 'VKIUPQ'}, '14': {'origin': 'MNL', 'destination': 'DVO_MNL', 'insurance': 'None', 'baggage': 'None', 'meals': 'None', 'travel_date': '2023-02-08', 'booking_date': '2023-02-03', 'revenue': 415.02, 'record_locator': 'SFNYVP'}, '15': {'origin': 'MNL', 'destination': 'DVO_MNL', 'insurance': 'None', 'baggage': 'None', 'meals': 'None', 'travel_date': '2023-01-21', 'booking_date': '2023-01-15', 'revenue': 415.02, 'record_locator': 'SIEVJG'}, '16': {'origin': 'MNL', 'destination': 'SUG_MNL', 'insurance': 'None', 'baggage': 'None', 'meals': 'None', 'travel_date': '2022-12-22', 'booking_date': '2022-11-01', 'revenue': 315.02, 'record_locator': 'XEUQUS'}, '17': {'origin': 'MNL', 'destination': 'DVO_MNL', 'insurance': 'None', 'baggage': 'None', 'meals': 'None', 'travel_date': '2022-11-26', 'booking_date': '2022-11-01', 'revenue': 415.02, 'record_locator': 'TMFSJX'}, '18': {'origin': 'MNL', 'destination': 'ILO_MNL', 'insurance': 'None', 'baggage': 'None', 'meals': 'None', 'travel_date': '2022-11-04', 'booking_date': '2022-11-02', 'revenue': 415.02, 'record_locator': 'TMW3XX'}, '19': {'origin': 'MNL', 'destination': 'DVO_MNL', 'insurance': 'None', 'baggage': 'None', 'meals': 'None', 'travel_date': '2022-10-23', 'booking_date': '2022-10-03', 'revenue': 415.02, 'record_locator': 'DIND5A'}, '20': {'origin': 'BXU', 'destination': 'MNL', 'insurance': 'None', 'baggage': 'None', 'meals': 'None', 'travel_date': '2022-09-27', 'booking_date': '2022-08-29', 'revenue': 165.01, 'record_locator': 'IEK1RP'}, '21': {'origin': 'MNL', 'destination': 'SUG', 'insurance': 'None', 'baggage': 'Checked Baggage Allowance - 20 Kilos', 'meals': 'None', 'travel_date': '2022-09-21', 'booking_date': '2022-09-20', 'revenue': 648.01, 'record_locator': 'DGHN6G'}, '22': {'origin': 'MNL', 'destination': 'DVO_MNL', 'insurance': 'None', 'baggage': 'None', 'meals': 'None', 'travel_date': '2022-08-28', 'booking_date': '2022-08-27', 'revenue': 415.02, 'record_locator': 'QDMYVF'}, '23': {'origin': 'MNL', 'destination': 'DXB_MNL', 'insurance': 'None', 'baggage': 'Checked Baggage Allowance - 20 Kilos', 'meals': 'None', 'travel_date': '2022-08-13', 'booking_date': '2022-08-01', 'revenue': 6527.3, 'record_locator': 'CLD2WX'}, '24': {'origin': 'MNL', 'destination': 'CEB_SUG_MNL_CEB', 'insurance': 'None', 'baggage': 'None', 'meals': 'None', 'travel_date': '2022-07-15', 'booking_date': '2022-07-06', 'revenue': 975.04, 'record_locator': 'YNSJME'}, '25': {'origin': 'MNL', 'destination': 'DVO_MNL', 'insurance': 'None', 'baggage': 'None', 'meals': 'None', 'travel_date': '2022-06-29', 'booking_date': '2022-06-22', 'revenue': 415.02, 'record_locator': 'YKEUQA'}, '26': {'origin': 'MNL', 'destination': 'BXU_MNL', 'insurance': 'None', 'baggage': 'None', 'meals': 'None', 'travel_date': '2022-06-12', 'booking_date': '2022-06-08', 'revenue': 365.02, 'record_locator': 'EJMGQN'}, '27': {'origin': 'MNL', 'destination': 'DVO_MNL', 'insurance': 'None', 'baggage': 'None', 'meals': 'None', 'travel_date': '2022-05-25', 'booking_date': '2022-05-18', 'revenue': 415.02, 'record_locator': 'CBMJNV'}, '28': {'origin': 'MNL', 'destination': 'DVO_MNL', 'insurance': 'None', 'baggage': 'None', 'meals': 'None', 'travel_date': '2022-04-29', 'booking_date': '2022-04-26', 'revenue': 415.02, 'record_locator': 'QHI54T'}, '29': {'origin': 'MNL', 'destination': 'REP_MNL', 'insurance': 'None', 'baggage': 'None', 'meals': 'None', 'travel_date': '2019-09-21', 'booking_date': '2019-09-18', 'revenue': 3736.92, 'record_locator': 'GMCTJB'}}, 'Months': {'May': 3, 'April': 5, 'February': 3, 'June': 3, 'November': 4, 'July': 3, 'January': 1, 'March': 1, 'September': 2, 'August': 3, 'October': 2}, 'BookingChannel': {'API': 28, 'Direct': 2}, 'TravelBaggage': {'TravelBaggage_separator_Checked_space1_Baggage_space1_Allowance_space1__space2__space1_20_space1_Kilos': 2, 'TravelBaggage_separator_None': 28}}\n"
     ]
    }
   ],
   "source": [
    "print(passenger_dict)"
   ]
  },
  {
   "cell_type": "code",
   "execution_count": 35,
   "metadata": {},
   "outputs": [
    {
     "name": "stdout",
     "output_type": "stream",
     "text": [
      "{}\n"
     ]
    }
   ],
   "source": [
    "mydict = {\"hellomama\":\"nilo\",\"rachealmami\":\"mami\"}\n",
    "\n",
    "mydict = {key:value for key,value in mydict.items() if \"hello\" not in key and \"mami\" not in key}\n",
    "print(mydict)"
   ]
  },
  {
   "cell_type": "code",
   "execution_count": 2,
   "metadata": {},
   "outputs": [],
   "source": [
    "import pandas as pd\n",
    "df = pd.read_parquet('profiles/passenger_details/check_passenger.parquet')"
   ]
  },
  {
   "cell_type": "code",
   "execution_count": 5,
   "metadata": {},
   "outputs": [
    {
     "data": {
      "text/plain": [
       "Index(['passenger_hash', 'FirstName', 'MiddleName', 'LastName',\n",
       "       'HonorificPrefix', 'HonorificSuffix', 'EmailAddress', 'Phone', 'Gender',\n",
       "       'ProvisionalPrimaryKey',\n",
       "       ...\n",
       "       'BookingCurrency_separator_KRW', 'BookingCurrency_separator_VND',\n",
       "       'IsRegistered_separator_Yes', 'IsRegistered_separator_No',\n",
       "       'TravelSoloOrGroup_separator_Group', 'TravelSoloOrGroup_separator_Solo',\n",
       "       'TravelOrigin', 'TravelDestination', 'TravelSeat', 'Details'],\n",
       "      dtype='object', length=103)"
      ]
     },
     "execution_count": 5,
     "metadata": {},
     "output_type": "execute_result"
    }
   ],
   "source": [
    "df.columns"
   ]
  },
  {
   "cell_type": "code",
   "execution_count": null,
   "metadata": {},
   "outputs": [],
   "source": []
  }
 ],
 "metadata": {
  "kernelspec": {
   "display_name": "Python 3",
   "language": "python",
   "name": "python3"
  },
  "language_info": {
   "codemirror_mode": {
    "name": "ipython",
    "version": 3
   },
   "file_extension": ".py",
   "mimetype": "text/x-python",
   "name": "python",
   "nbconvert_exporter": "python",
   "pygments_lexer": "ipython3",
   "version": "3.11.3"
  },
  "orig_nbformat": 4
 },
 "nbformat": 4,
 "nbformat_minor": 2
}
